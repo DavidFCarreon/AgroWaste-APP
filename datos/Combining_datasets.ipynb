{
 "cells": [
  {
   "cell_type": "code",
   "execution_count": 2,
   "id": "4acd21ef",
   "metadata": {},
   "outputs": [],
   "source": [
    "import pandas as pd\n",
    "import os\n",
    "\n",
    "BASE_DIR = os.getcwd()\n",
    "\n",
    "# Importing all datasets\n",
    "df_bio_food = pd.read_csv(os.path.join(BASE_DIR, \"BioFoodComp_cleaned_v2.csv\"))\n",
    "df_fdc = pd.read_csv(os.path.join(BASE_DIR, \"./fdc/fdc_ids_proximal_dataset.csv\"))\n",
    "df_fwe = pd.read_csv(os.path.join(BASE_DIR, \"./fwe/preprocessed.csv\"))\n"
   ]
  },
  {
   "cell_type": "code",
   "execution_count": 3,
   "id": "27f636ab",
   "metadata": {},
   "outputs": [],
   "source": [
    "PROXIMAL_MAP_BIO = {\n",
    "    'Food name in English': 'Food Product',\n",
    "    # Core Proximal Components\n",
    "    'WATER(g)': 'Moisture',\n",
    "    'PROTCNT(g)': 'Protein',\n",
    "    'FATCE(g)': 'Fat',\n",
    "    'CHOAVLDF(g)': 'Carbohydrates',\n",
    "    'FIBTG(g)': 'Dietary Fiber',\n",
    "    'ASH(g)': 'Ash',\n",
    "\n",
    "    # Additional but common fields\n",
    "    'SUGAR(g)': 'Sugars',\n",
    "    'FIBND(g)': 'Insoluble Fiber',\n",
    "    'FIBAD(g)': 'Soluble Fiber',\n",
    "\n",
    "    # Less common / advanced or legacy fiber metrics\n",
    "    'FIBC(g)': 'Crude Fiber',\n",
    "    'CELLU(g)': 'Cellulose',\n",
    "    'LIGN(g)': 'Lignin',\n",
    "    'HEMCEL(g)': 'Hemicellulose'\n",
    "}"
   ]
  },
  {
   "cell_type": "code",
   "execution_count": 4,
   "id": "7be10b51",
   "metadata": {},
   "outputs": [
    {
     "name": "stdout",
     "output_type": "stream",
     "text": [
      "(848, 14)\n"
     ]
    },
    {
     "data": {
      "text/plain": [
       "Food Product      0.000000\n",
       "Moisture         11.556604\n",
       "Protein           3.537736\n",
       "Fat              17.806604\n",
       "Carbohydrates    36.084906\n",
       "Sugars           79.716981\n",
       "Dietary Fiber    79.245283\n",
       "Crude Fiber      44.693396\n",
       "Ash               3.537736\n",
       "dtype: float64"
      ]
     },
     "execution_count": 4,
     "metadata": {},
     "output_type": "execute_result"
    }
   ],
   "source": [
    "print(df_bio_food.shape)\n",
    "df_bio_food.rename(columns=PROXIMAL_MAP_BIO, inplace=True)\n",
    "df_bio_food.drop(columns=['Soluble Fiber','Insoluble Fiber','Lignin','Hemicellulose','Cellulose'], inplace=True)\n",
    "df_bio_food.isna().sum()/df_bio_food.shape[0]*100"
   ]
  },
  {
   "cell_type": "code",
   "execution_count": 5,
   "id": "83ae0149",
   "metadata": {},
   "outputs": [
    {
     "data": {
      "text/html": [
       "<div>\n",
       "<style scoped>\n",
       "    .dataframe tbody tr th:only-of-type {\n",
       "        vertical-align: middle;\n",
       "    }\n",
       "\n",
       "    .dataframe tbody tr th {\n",
       "        vertical-align: top;\n",
       "    }\n",
       "\n",
       "    .dataframe thead th {\n",
       "        text-align: right;\n",
       "    }\n",
       "</style>\n",
       "<table border=\"1\" class=\"dataframe\">\n",
       "  <thead>\n",
       "    <tr style=\"text-align: right;\">\n",
       "      <th></th>\n",
       "      <th>Food Product</th>\n",
       "      <th>Moisture</th>\n",
       "      <th>Protein</th>\n",
       "      <th>Fat</th>\n",
       "      <th>Carbohydrates</th>\n",
       "      <th>Sugars</th>\n",
       "      <th>Dietary Fiber</th>\n",
       "      <th>Crude Fiber</th>\n",
       "      <th>Ash</th>\n",
       "    </tr>\n",
       "  </thead>\n",
       "  <tbody>\n",
       "    <tr>\n",
       "      <th>0</th>\n",
       "      <td>Sorghum, whole grain, white, raw</td>\n",
       "      <td>9.40</td>\n",
       "      <td>9.330000</td>\n",
       "      <td>NaN</td>\n",
       "      <td>58.700000</td>\n",
       "      <td>NaN</td>\n",
       "      <td>17.214000</td>\n",
       "      <td>NaN</td>\n",
       "      <td>1.440000</td>\n",
       "    </tr>\n",
       "    <tr>\n",
       "      <th>1</th>\n",
       "      <td>Sorghum, whole grain, red, raw</td>\n",
       "      <td>10.10</td>\n",
       "      <td>6.650000</td>\n",
       "      <td>NaN</td>\n",
       "      <td>64.180000</td>\n",
       "      <td>NaN</td>\n",
       "      <td>14.024400</td>\n",
       "      <td>NaN</td>\n",
       "      <td>1.520000</td>\n",
       "    </tr>\n",
       "    <tr>\n",
       "      <th>2</th>\n",
       "      <td>Quinoa, Blanca de juli, raw</td>\n",
       "      <td>11.39</td>\n",
       "      <td>12.369956</td>\n",
       "      <td>NaN</td>\n",
       "      <td>66.590415</td>\n",
       "      <td>NaN</td>\n",
       "      <td>12.157292</td>\n",
       "      <td>1.772200</td>\n",
       "      <td>2.995018</td>\n",
       "    </tr>\n",
       "    <tr>\n",
       "      <th>3</th>\n",
       "      <td>Quinoa, Kcancolla, raw</td>\n",
       "      <td>10.78</td>\n",
       "      <td>13.534674</td>\n",
       "      <td>NaN</td>\n",
       "      <td>64.657734</td>\n",
       "      <td>NaN</td>\n",
       "      <td>12.588942</td>\n",
       "      <td>2.739054</td>\n",
       "      <td>3.140544</td>\n",
       "    </tr>\n",
       "    <tr>\n",
       "      <th>4</th>\n",
       "      <td>Quinoa, La Molina 89, raw</td>\n",
       "      <td>12.03</td>\n",
       "      <td>13.608959</td>\n",
       "      <td>NaN</td>\n",
       "      <td>60.558548</td>\n",
       "      <td>NaN</td>\n",
       "      <td>14.066403</td>\n",
       "      <td>2.973386</td>\n",
       "      <td>4.803162</td>\n",
       "    </tr>\n",
       "  </tbody>\n",
       "</table>\n",
       "</div>"
      ],
      "text/plain": [
       "                       Food Product  Moisture    Protein  Fat  Carbohydrates  \\\n",
       "0  Sorghum, whole grain, white, raw      9.40   9.330000  NaN      58.700000   \n",
       "1    Sorghum, whole grain, red, raw     10.10   6.650000  NaN      64.180000   \n",
       "2       Quinoa, Blanca de juli, raw     11.39  12.369956  NaN      66.590415   \n",
       "3            Quinoa, Kcancolla, raw     10.78  13.534674  NaN      64.657734   \n",
       "4         Quinoa, La Molina 89, raw     12.03  13.608959  NaN      60.558548   \n",
       "\n",
       "   Sugars  Dietary Fiber  Crude Fiber       Ash  \n",
       "0     NaN      17.214000          NaN  1.440000  \n",
       "1     NaN      14.024400          NaN  1.520000  \n",
       "2     NaN      12.157292     1.772200  2.995018  \n",
       "3     NaN      12.588942     2.739054  3.140544  \n",
       "4     NaN      14.066403     2.973386  4.803162  "
      ]
     },
     "execution_count": 5,
     "metadata": {},
     "output_type": "execute_result"
    }
   ],
   "source": [
    "df_bio_food.head()"
   ]
  },
  {
   "cell_type": "code",
   "execution_count": 6,
   "id": "9bb2960e",
   "metadata": {},
   "outputs": [],
   "source": [
    "PROXIMAL_MAP_FDC = {\n",
    "    'Water': 'Moisture',\n",
    "    'Nitrogen': 'Nitrogen',\n",
    "    'Ash': 'Ash',\n",
    "    'Carbohydrate, by summation': 'Total Carbohydrates (sum)',\n",
    "    'Carbohydrate, by difference': 'Total Carbohydrates',\n",
    "    'Protein': 'Protein',\n",
    "    'Total lipid (fat)': 'Fat',\n",
    "    'Fiber, total dietary': 'Dietary Fiber',\n",
    "    'Energy': 'Energy (kcal)',\n",
    "\n",
    "    # Contextual fields\n",
    "    'Food Product': 'Food Product',\n",
    "    'Side Stream': 'Side Stream'\n",
    "}"
   ]
  },
  {
   "cell_type": "code",
   "execution_count": 7,
   "id": "705f931b",
   "metadata": {},
   "outputs": [
    {
     "name": "stdout",
     "output_type": "stream",
     "text": [
      "(184, 12)\n"
     ]
    },
    {
     "data": {
      "text/plain": [
       "Moisture                9.239130\n",
       "Ash                     9.782609\n",
       "Total Carbohydrates    16.847826\n",
       "Protein                 1.630435\n",
       "Fat                     7.608696\n",
       "Dietary Fiber          35.326087\n",
       "Food Product            0.000000\n",
       "Side Stream             0.000000\n",
       "Sugars                 53.260870\n",
       "dtype: float64"
      ]
     },
     "execution_count": 7,
     "metadata": {},
     "output_type": "execute_result"
    }
   ],
   "source": [
    "print(df_fdc.shape)\n",
    "df_fdc.rename(columns=PROXIMAL_MAP_FDC, inplace=True)\n",
    "df_fdc.drop(columns=['Nitrogen','Total Carbohydrates (sum)','Energy (kcal)'], inplace=True)\n",
    "df_fdc.isna().sum()/df_fdc.shape[0]*100\n"
   ]
  },
  {
   "cell_type": "markdown",
   "id": "3374ea34",
   "metadata": {},
   "source": []
  },
  {
   "cell_type": "code",
   "execution_count": 8,
   "id": "4d5ed8c9",
   "metadata": {},
   "outputs": [],
   "source": [
    "PROXIMAL_MAP_FWE = {\n",
    "    'Food Product': 'Food Product',\n",
    "    'Side Stream': 'Side Stream',\n",
    "    # Core Proximal Components\n",
    "    'Ash': 'Ash',\n",
    "    'Dry Matter': 'Dry Matter',\n",
    "    # Fiber-related components\n",
    "    'Fibre, crude': 'Crude Fiber',\n",
    "    'Acid Detergent Fibre (ADF)': 'ADF',\n",
    "    'Cellulose': 'Cellulose',\n",
    "    'Hemicellulose': 'Hemicellulose',\n",
    "    'Pectin': 'Pectin',\n",
    "    # Carbohydrates\n",
    "    'Sugar, total': 'Sugars'\n",
    "}"
   ]
  },
  {
   "cell_type": "code",
   "execution_count": 9,
   "id": "132339e2",
   "metadata": {},
   "outputs": [
    {
     "name": "stdout",
     "output_type": "stream",
     "text": [
      "(241, 10)\n"
     ]
    },
    {
     "data": {
      "text/plain": [
       "Food Product      0.000000\n",
       "Side Stream       0.000000\n",
       "ADF              51.037344\n",
       "Ash              14.522822\n",
       "Cellulose        83.817427\n",
       "Dry Matter       72.614108\n",
       "Crude Fiber      46.058091\n",
       "Hemicellulose    83.817427\n",
       "Pectin           95.435685\n",
       "Sugars           97.095436\n",
       "dtype: float64"
      ]
     },
     "execution_count": 9,
     "metadata": {},
     "output_type": "execute_result"
    }
   ],
   "source": [
    "print(df_fwe.shape)\n",
    "df_fwe.rename(columns=PROXIMAL_MAP_FWE, inplace=True)\n",
    "df_fwe.isna().sum()/df_fwe.shape[0]*100"
   ]
  },
  {
   "cell_type": "code",
   "execution_count": 10,
   "id": "6033b77b",
   "metadata": {},
   "outputs": [],
   "source": [
    "df_merged = pd.concat([df_bio_food, df_fdc], axis=0, ignore_index=True)\n",
    "#df_merged.to_csv(os.path.join(BASE_DIR, \"Combined.csv\"), index=False)"
   ]
  },
  {
   "cell_type": "code",
   "execution_count": 12,
   "id": "a79f1a31",
   "metadata": {},
   "outputs": [
    {
     "data": {
      "text/html": [
       "<div>\n",
       "<style scoped>\n",
       "    .dataframe tbody tr th:only-of-type {\n",
       "        vertical-align: middle;\n",
       "    }\n",
       "\n",
       "    .dataframe tbody tr th {\n",
       "        vertical-align: top;\n",
       "    }\n",
       "\n",
       "    .dataframe thead th {\n",
       "        text-align: right;\n",
       "    }\n",
       "</style>\n",
       "<table border=\"1\" class=\"dataframe\">\n",
       "  <thead>\n",
       "    <tr style=\"text-align: right;\">\n",
       "      <th></th>\n",
       "      <th>Moisture</th>\n",
       "      <th>Protein</th>\n",
       "      <th>Fat</th>\n",
       "      <th>Carbohydrates</th>\n",
       "      <th>Sugars</th>\n",
       "      <th>Dietary Fiber</th>\n",
       "      <th>Crude Fiber</th>\n",
       "      <th>Ash</th>\n",
       "      <th>Total Carbohydrates</th>\n",
       "    </tr>\n",
       "  </thead>\n",
       "  <tbody>\n",
       "    <tr>\n",
       "      <th>count</th>\n",
       "      <td>917.000000</td>\n",
       "      <td>999.000000</td>\n",
       "      <td>867.000000</td>\n",
       "      <td>542.000000</td>\n",
       "      <td>258.000000</td>\n",
       "      <td>295.000000</td>\n",
       "      <td>469.000000</td>\n",
       "      <td>984.000000</td>\n",
       "      <td>153.000000</td>\n",
       "    </tr>\n",
       "    <tr>\n",
       "      <th>mean</th>\n",
       "      <td>50.544559</td>\n",
       "      <td>11.084471</td>\n",
       "      <td>3.700521</td>\n",
       "      <td>28.310521</td>\n",
       "      <td>12.857790</td>\n",
       "      <td>9.131421</td>\n",
       "      <td>4.893295</td>\n",
       "      <td>2.308466</td>\n",
       "      <td>15.955001</td>\n",
       "    </tr>\n",
       "    <tr>\n",
       "      <th>std</th>\n",
       "      <td>36.166838</td>\n",
       "      <td>11.014271</td>\n",
       "      <td>9.894242</td>\n",
       "      <td>23.194293</td>\n",
       "      <td>15.093908</td>\n",
       "      <td>8.833709</td>\n",
       "      <td>4.680354</td>\n",
       "      <td>3.532600</td>\n",
       "      <td>15.524870</td>\n",
       "    </tr>\n",
       "    <tr>\n",
       "      <th>min</th>\n",
       "      <td>0.420000</td>\n",
       "      <td>0.085938</td>\n",
       "      <td>0.000000</td>\n",
       "      <td>0.180000</td>\n",
       "      <td>0.340000</td>\n",
       "      <td>0.200000</td>\n",
       "      <td>0.100000</td>\n",
       "      <td>0.086500</td>\n",
       "      <td>1.293125</td>\n",
       "    </tr>\n",
       "    <tr>\n",
       "      <th>25%</th>\n",
       "      <td>10.300000</td>\n",
       "      <td>1.143333</td>\n",
       "      <td>0.300000</td>\n",
       "      <td>8.906667</td>\n",
       "      <td>4.031977</td>\n",
       "      <td>2.400000</td>\n",
       "      <td>1.800000</td>\n",
       "      <td>0.829800</td>\n",
       "      <td>6.604375</td>\n",
       "    </tr>\n",
       "    <tr>\n",
       "      <th>50%</th>\n",
       "      <td>67.710000</td>\n",
       "      <td>4.800000</td>\n",
       "      <td>1.000000</td>\n",
       "      <td>18.200000</td>\n",
       "      <td>6.952300</td>\n",
       "      <td>5.401000</td>\n",
       "      <td>3.720000</td>\n",
       "      <td>1.800000</td>\n",
       "      <td>11.800000</td>\n",
       "    </tr>\n",
       "    <tr>\n",
       "      <th>75%</th>\n",
       "      <td>85.140000</td>\n",
       "      <td>21.090800</td>\n",
       "      <td>2.172906</td>\n",
       "      <td>53.394120</td>\n",
       "      <td>13.317438</td>\n",
       "      <td>13.152265</td>\n",
       "      <td>6.000000</td>\n",
       "      <td>3.417300</td>\n",
       "      <td>19.328750</td>\n",
       "    </tr>\n",
       "    <tr>\n",
       "      <th>max</th>\n",
       "      <td>96.100000</td>\n",
       "      <td>51.100000</td>\n",
       "      <td>73.280000</td>\n",
       "      <td>80.530000</td>\n",
       "      <td>67.970000</td>\n",
       "      <td>42.980300</td>\n",
       "      <td>41.800000</td>\n",
       "      <td>99.000000</td>\n",
       "      <td>87.312975</td>\n",
       "    </tr>\n",
       "  </tbody>\n",
       "</table>\n",
       "</div>"
      ],
      "text/plain": [
       "         Moisture     Protein         Fat  Carbohydrates      Sugars  \\\n",
       "count  917.000000  999.000000  867.000000     542.000000  258.000000   \n",
       "mean    50.544559   11.084471    3.700521      28.310521   12.857790   \n",
       "std     36.166838   11.014271    9.894242      23.194293   15.093908   \n",
       "min      0.420000    0.085938    0.000000       0.180000    0.340000   \n",
       "25%     10.300000    1.143333    0.300000       8.906667    4.031977   \n",
       "50%     67.710000    4.800000    1.000000      18.200000    6.952300   \n",
       "75%     85.140000   21.090800    2.172906      53.394120   13.317438   \n",
       "max     96.100000   51.100000   73.280000      80.530000   67.970000   \n",
       "\n",
       "       Dietary Fiber  Crude Fiber         Ash  Total Carbohydrates  \n",
       "count     295.000000   469.000000  984.000000           153.000000  \n",
       "mean        9.131421     4.893295    2.308466            15.955001  \n",
       "std         8.833709     4.680354    3.532600            15.524870  \n",
       "min         0.200000     0.100000    0.086500             1.293125  \n",
       "25%         2.400000     1.800000    0.829800             6.604375  \n",
       "50%         5.401000     3.720000    1.800000            11.800000  \n",
       "75%        13.152265     6.000000    3.417300            19.328750  \n",
       "max        42.980300    41.800000   99.000000            87.312975  "
      ]
     },
     "execution_count": 12,
     "metadata": {},
     "output_type": "execute_result"
    }
   ],
   "source": [
    "df_merged.describe()"
   ]
  },
  {
   "cell_type": "code",
   "execution_count": null,
   "id": "fe7096d4",
   "metadata": {},
   "outputs": [],
   "source": []
  }
 ],
 "metadata": {
  "kernelspec": {
   "display_name": "AgroWaste-APP",
   "language": "python",
   "name": "python3"
  },
  "language_info": {
   "codemirror_mode": {
    "name": "ipython",
    "version": 3
   },
   "file_extension": ".py",
   "mimetype": "text/x-python",
   "name": "python",
   "nbconvert_exporter": "python",
   "pygments_lexer": "ipython3",
   "version": "3.10.6"
  }
 },
 "nbformat": 4,
 "nbformat_minor": 5
}

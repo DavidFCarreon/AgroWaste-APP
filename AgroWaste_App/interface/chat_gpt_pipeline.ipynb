{
 "cells": [
  {
   "cell_type": "code",
   "execution_count": 49,
   "id": "0ec48d3f",
   "metadata": {},
   "outputs": [
    {
     "name": "stdout",
     "output_type": "stream",
     "text": [
      "Requirement already satisfied: openai in /home/julio/.pyenv/versions/3.10.6/envs/AgroWaste-APP/lib/python3.10/site-packages (1.98.0)\n",
      "Requirement already satisfied: anyio<5,>=3.5.0 in /home/julio/.pyenv/versions/3.10.6/envs/AgroWaste-APP/lib/python3.10/site-packages (from openai) (4.9.0)\n",
      "Requirement already satisfied: distro<2,>=1.7.0 in /home/julio/.pyenv/versions/3.10.6/envs/AgroWaste-APP/lib/python3.10/site-packages (from openai) (1.9.0)\n",
      "Requirement already satisfied: httpx<1,>=0.23.0 in /home/julio/.pyenv/versions/3.10.6/envs/AgroWaste-APP/lib/python3.10/site-packages (from openai) (0.28.1)\n",
      "Requirement already satisfied: jiter<1,>=0.4.0 in /home/julio/.pyenv/versions/3.10.6/envs/AgroWaste-APP/lib/python3.10/site-packages (from openai) (0.10.0)\n",
      "Requirement already satisfied: pydantic<3,>=1.9.0 in /home/julio/.pyenv/versions/3.10.6/envs/AgroWaste-APP/lib/python3.10/site-packages (from openai) (2.11.7)\n",
      "Requirement already satisfied: sniffio in /home/julio/.pyenv/versions/3.10.6/envs/AgroWaste-APP/lib/python3.10/site-packages (from openai) (1.3.1)\n",
      "Requirement already satisfied: tqdm>4 in /home/julio/.pyenv/versions/3.10.6/envs/AgroWaste-APP/lib/python3.10/site-packages (from openai) (4.67.1)\n",
      "Requirement already satisfied: typing-extensions<5,>=4.11 in /home/julio/.pyenv/versions/3.10.6/envs/AgroWaste-APP/lib/python3.10/site-packages (from openai) (4.14.1)\n",
      "Requirement already satisfied: exceptiongroup>=1.0.2 in /home/julio/.pyenv/versions/3.10.6/envs/AgroWaste-APP/lib/python3.10/site-packages (from anyio<5,>=3.5.0->openai) (1.3.0)\n",
      "Requirement already satisfied: idna>=2.8 in /home/julio/.pyenv/versions/3.10.6/envs/AgroWaste-APP/lib/python3.10/site-packages (from anyio<5,>=3.5.0->openai) (3.10)\n",
      "Requirement already satisfied: certifi in /home/julio/.pyenv/versions/3.10.6/envs/AgroWaste-APP/lib/python3.10/site-packages (from httpx<1,>=0.23.0->openai) (2025.7.14)\n",
      "Requirement already satisfied: httpcore==1.* in /home/julio/.pyenv/versions/3.10.6/envs/AgroWaste-APP/lib/python3.10/site-packages (from httpx<1,>=0.23.0->openai) (1.0.9)\n",
      "Requirement already satisfied: h11>=0.16 in /home/julio/.pyenv/versions/3.10.6/envs/AgroWaste-APP/lib/python3.10/site-packages (from httpcore==1.*->httpx<1,>=0.23.0->openai) (0.16.0)\n",
      "Requirement already satisfied: annotated-types>=0.6.0 in /home/julio/.pyenv/versions/3.10.6/envs/AgroWaste-APP/lib/python3.10/site-packages (from pydantic<3,>=1.9.0->openai) (0.7.0)\n",
      "Requirement already satisfied: pydantic-core==2.33.2 in /home/julio/.pyenv/versions/3.10.6/envs/AgroWaste-APP/lib/python3.10/site-packages (from pydantic<3,>=1.9.0->openai) (2.33.2)\n",
      "Requirement already satisfied: typing-inspection>=0.4.0 in /home/julio/.pyenv/versions/3.10.6/envs/AgroWaste-APP/lib/python3.10/site-packages (from pydantic<3,>=1.9.0->openai) (0.4.1)\n"
     ]
    }
   ],
   "source": [
    "!pip install --upgrade openai\n"
   ]
  },
  {
   "cell_type": "code",
   "execution_count": null,
   "id": "2c2b2d13",
   "metadata": {},
   "outputs": [
    {
     "name": "stdout",
     "output_type": "stream",
     "text": [
      "Requirement already satisfied: python-dotenv in /home/julio/.pyenv/versions/3.10.6/envs/AgroWaste-APP/lib/python3.10/site-packages (1.1.1)\n"
     ]
    }
   ],
   "source": [
    "!pip install python-dotenv"
   ]
  },
  {
   "cell_type": "code",
   "execution_count": 8,
   "id": "50840232",
   "metadata": {},
   "outputs": [],
   "source": [
    "from dotenv import load_dotenv\n",
    "import os\n",
    "from openai import OpenAI\n",
    "\n",
    "load_dotenv()\n",
    "\n",
    "client = OpenAI()  # toma OPENAI_API_KEY del entorno automáticamente\n"
   ]
  },
  {
   "cell_type": "code",
   "execution_count": null,
   "id": "be8b0430",
   "metadata": {},
   "outputs": [],
   "source": [
    "user_question=input(\"Porfavor ingrese un producto: \")"
   ]
  },
  {
   "cell_type": "code",
   "execution_count": 10,
   "id": "44b4f12c",
   "metadata": {},
   "outputs": [],
   "source": [
    "system_prompt = (\n",
    "    \"Eres un experto en nutrición con acceso a datos confiables. \"\n",
    "    \"Cuando un usuario menciona un alimento, debes devolver los valores reales de un análisis proximal básico para ese producto. \"\n",
    "    \"Siempre usa la función 'obtener_caracteristicas' para estructurar los valores, \"\n",
    "    \"y no incluyas explicaciones ni respuestas narrativas.\")\n",
    "\n",
    "completion = client.chat.completions.create(\n",
    "    model=\"gpt-3.5-turbo\",\n",
    "    messages=[\n",
    "        {\"role\": \"system\", \"content\": system_prompt},\n",
    "        {\"role\": \"user\", \"content\": user_question}\n",
    "    ],\n",
    "    functions=[\n",
    "                {\"name\": \"obtener_caracteristicas\",\n",
    "                \"description\": \"Obtiene los valores de un análisis proximal básico de un alimento\",\n",
    "                \"parameters\": {\n",
    "                    \"type\": \"object\",\n",
    "                    \"properties\": {\n",
    "                        \"Humedad\": {\"type\": \"number\", \"description\": \"Contenido de humedad (%)\", \"minimum\": 0, \"maximum\": 100},\n",
    "                        \"Proteína\": {\"type\": \"number\", \"description\": \"Contenido de proteína (%)\", \"minimum\": 0, \"maximum\": 100},\n",
    "                        \"Grasa\": {\"type\": \"number\", \"description\": \"Contenido de grasa (%)\", \"minimum\": 0, \"maximum\": 100},\n",
    "                        \"Carbohidratos Totales\": {\"type\": \"number\", \"description\": \"Contenido total de carbohidratos (%)\", \"minimum\": 0, \"maximum\": 100},\n",
    "                        \"Azúcares\": {\"type\": \"number\", \"description\": \"Contenido de azúcares (%)\", \"minimum\": 0, \"maximum\": 100},\n",
    "                        \"Fibra Dietética\": {\"type\": \"number\", \"description\": \"Contenido de fibra dietética (%)\", \"minimum\": 0, \"maximum\": 100},\n",
    "                        \"Fibra Cruda\": {\"type\": \"number\", \"description\": \"Contenido de fibra cruda (%)\", \"minimum\": 0, \"maximum\": 100},\n",
    "                        \"Cenizas\": {\"type\": \"number\", \"description\": \"Contenido de cenizas (%)\", \"minimum\": 0, \"maximum\": 100},\n",
    "                    },\n",
    "                    \"required\": [\"Humedad\", \"Proteína\", \"Grasa\", \"Carbohidratos Totales\",\n",
    "                                \"Azúcares\", \"Fibra Dietética\", \"Fibra Cruda\", \"Cenizas\"],\n",
    "                    },\n",
    "                }\n",
    "            ],\n",
    "    function_call=\"auto\")\n"
   ]
  },
  {
   "cell_type": "code",
   "execution_count": null,
   "id": "64e17dd7",
   "metadata": {},
   "outputs": [
    {
     "name": "stdout",
     "output_type": "stream",
     "text": [
      "{'Humedad': 85.56, 'Proteína': 0.26, 'Grasa': 0.17, 'Carbohidratos Totales': 13.81, 'Azúcares': 10.39, 'Fibra Dietética': 1.8, 'Fibra Cruda': 2.1, 'Cenizas': 0.41}\n"
     ]
    }
   ],
   "source": [
    "import json\n",
    "\n",
    "func_call = completion.choices[0].message.function_call\n",
    "\n",
    "if func_call and func_call.name == \"obtener_caracteristicas\":\n",
    "    arguments_json = func_call.arguments\n",
    "    args = json.loads(arguments_json)\n",
    "    print(args)\n",
    "else:\n",
    "    print(\"No se recibió llamada a función o es otra función.\")\n"
   ]
  },
  {
   "cell_type": "code",
   "execution_count": null,
   "id": "1b306b45",
   "metadata": {},
   "outputs": [],
   "source": []
  }
 ],
 "metadata": {
  "kernelspec": {
   "display_name": "AgroWaste-APP",
   "language": "python",
   "name": "python3"
  },
  "language_info": {
   "codemirror_mode": {
    "name": "ipython",
    "version": 3
   },
   "file_extension": ".py",
   "mimetype": "text/x-python",
   "name": "python",
   "nbconvert_exporter": "python",
   "pygments_lexer": "ipython3",
   "version": "3.10.6"
  }
 },
 "nbformat": 4,
 "nbformat_minor": 5
}
